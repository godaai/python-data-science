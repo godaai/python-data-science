{
 "cells": [
  {
   "cell_type": "markdown",
   "metadata": {},
   "source": [
    "# Numpy 在经济金融中的应用\n",
    "Numpy在现在经济研究、量化金融中应用十分广泛。首先，我们可以使用Numpy生成数组或矩阵，并对数组进行操作和计算，或进行线性代数运算。第二，我们可以使用Numpy生成随机数以及随机种子，这是量化中常被运用的。第三，在进行经济学研究，我们常需要对数据进行描述性统计，Numpy可以进行统计运算。"
   ]
  },
  {
   "cell_type": "code",
   "execution_count": 11,
   "metadata": {},
   "outputs": [],
   "source": [
    "import numpy as np"
   ]
  },
  {
   "cell_type": "markdown",
   "metadata": {},
   "source": [
    "## 金融函数\n",
    "在正式开始前，先简要了解一下金融函数中常使用的变量：\n",
    "|变量|含义|\n",
    "|:---:|:---:|\n",
    "|[`rate`]|存款/贷款每期利率|\n",
    "|[`nper`]|存款/贷款期数|\n",
    "|[`pmt`]|存款/贷款每期支付的金额|\n",
    "|[`values`]|现金流序列|\n",
    "|[`irr`]|内部收益率|\n",
    "|[`pv`]|存款/贷款金额|\n",
    "|[`fv`]|存款/贷款终值。如果是贷款，终值为 `0` ；如果是存款，终值为本息和|\n",
    "\n",
    "\n",
    "我们需要安装 [`nmupy-financial`]："
   ]
  },
  {
   "cell_type": "code",
   "execution_count": 12,
   "metadata": {},
   "outputs": [
    {
     "name": "stdout",
     "output_type": "stream",
     "text": [
      "Note: you may need to restart the kernel to use updated packages.Requirement already satisfied: numpy-financial in c:\\users\\tnt\\appdata\\local\\programs\\python\\python310\\lib\\site-packages (1.0.0)\n",
      "Requirement already satisfied: numpy>=1.15 in c:\\users\\tnt\\appdata\\local\\programs\\python\\python310\\lib\\site-packages (from numpy-financial) (1.26.1)\n",
      "\n"
     ]
    },
    {
     "name": "stderr",
     "output_type": "stream",
     "text": [
      "\n",
      "[notice] A new release of pip is available: 23.0.1 -> 24.0\n",
      "[notice] To update, run: python.exe -m pip install --upgrade pip\n"
     ]
    }
   ],
   "source": [
    "pip install numpy-financial"
   ]
  },
  {
   "cell_type": "markdown",
   "metadata": {},
   "source": [
    "\n",
    "Numpy 中的 [`numpy-financial`] 中包含了常用的金融函数，可以解决复利问题、终现值计算等。\n",
    "\n",
    "|函数|含义|\n",
    "|:---:|:---:|\n",
    "|[`npf.fv(rate,nper,pmt,pv,when='end')`]|计算终值|\n",
    "|[`npf.pv(rate,nper,pmt,pv)`]|计算现值（终值的逆运算）|\n",
    "|[`npf.npv(rate,values)`]|计算净现值|\n",
    "|[`npf.pmt(rate,nper,pv[,fv,when])`]|计算偿还额/分期付款额|\n",
    "|[`npf.ppmt(rate,per,nper,pv[,fv,when])`]|计算偿还额/分期付款中本金部分|\n",
    "|[`npf.ipmt(rate,per,nper,pv[,fv,when])`]|计算偿还额/分期付款中利息部分|\n",
    "|[`npf.nper(rate,pmt,pv,fv)`]|计算支付期数|\n",
    "|[`npf.irr(values)`]|计算内含报酬率|\n",
    "|[`npf.mirr(values)`]|计算修正回报率|\n",
    "|[`npf.rate(nper,pmt,fv,when='end')`]|计算利息率|\n"
   ]
  },
  {
   "cell_type": "markdown",
   "metadata": {},
   "source": [
    "以终值的计算为例，我们来尝试使用金融函数。\n",
    "某用户去银行存款1000元，银行年利率3%，每季度支付金额10元，则请计算存款5年后可以领取多少金额？"
   ]
  },
  {
   "cell_type": "code",
   "execution_count": 13,
   "metadata": {},
   "outputs": [],
   "source": [
    "import numpy_financial as npf"
   ]
  },
  {
   "cell_type": "code",
   "execution_count": 14,
   "metadata": {},
   "outputs": [
    {
     "name": "stdout",
     "output_type": "stream",
     "text": [
      "5年后领取的终值金额 1376.0963320407982\n"
     ]
    }
   ],
   "source": [
    "final = npf.fv(0.03/4,5*4,-10,-1000)\n",
    "print(\"5年后领取的终值金额\",final)"
   ]
  },
  {
   "cell_type": "markdown",
   "metadata": {},
   "source": [
    "# 殖民地起源的发展比较：一项经济研究\n",
    "\n",
    "原文信息：\n",
    "Acemoglu, D., Johnson, S., & Robinson, J. A. (2001). The colonial origins of comparative development: An empirical investigation. American economic review,91(5), 1369-1401."
   ]
  },
  {
   "cell_type": "markdown",
   "metadata": {},
   "source": [
    "在本节，我们将以Acemoglu、Johnson和Robinson关于殖民地起源的研究为例，学习使用Python"
   ]
  },
  {
   "cell_type": "markdown",
   "metadata": {},
   "source": [
    "Reference:\n",
    "Daron Acemoglu, Simon Johnson, and James A Robinson. The colonial origins of comparative development: an empirical investigation. The American Economic Review, 91(5):1369–1401, 2001."
   ]
  }
 ],
 "metadata": {
  "kernelspec": {
   "display_name": "Python 3",
   "language": "python",
   "name": "python3"
  },
  "language_info": {
   "codemirror_mode": {
    "name": "ipython",
    "version": 3
   },
   "file_extension": ".py",
   "mimetype": "text/x-python",
   "name": "python",
   "nbconvert_exporter": "python",
   "pygments_lexer": "ipython3",
   "version": "3.10.11"
  }
 },
 "nbformat": 4,
 "nbformat_minor": 2
}
